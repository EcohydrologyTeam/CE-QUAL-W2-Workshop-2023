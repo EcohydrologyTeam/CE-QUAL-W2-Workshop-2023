{
 "cells": [
  {
   "cell_type": "markdown",
   "metadata": {},
   "source": [
    "# 2.13 CE-QUAL-W2 Workshop\n",
    "\n",
    "## 2.13c. Visualization and Processing, Part 2 of 2\n",
    "\n",
    "In this workshop, we will be working with a CE-QUAL-W2 water quality data input file and the `cequalw2` module. We will cover the following:\n",
    "\n",
    "1. [Importing the `cequalw2` module](#cequalw2-module)\n",
    "2. [Water Temperature Input Data](#tin)\n",
    "3. [Water Quality Constituent Input Data](#cin)\n",
    "4. [CE-QUAL-W2 Time Series (TSR) Output Data](#tsr)"
   ]
  },
  {
   "cell_type": "markdown",
   "metadata": {},
   "source": [
    "## 1. Importing the `cequalw2` Module <a name=\"cequalw2-module\"></a>"
   ]
  },
  {
   "cell_type": "code",
   "execution_count": null,
   "metadata": {},
   "outputs": [],
   "source": [
    "import cequalw2 as w2"
   ]
  },
  {
   "cell_type": "markdown",
   "metadata": {},
   "source": [
    "## 2. Water Temperature Input Data <a name=\"tin\"></a>\n",
    "\n",
    "In this section, we will import and plot the temperature input data for the Spokane River model. Read the temperature input data for Branch 8. This contains only one column of data. Therefore, we will specify the path to the data the model year, the data column names, and the y labels for the plots all in one command. Then we will display the table and plot the data."
   ]
  },
  {
   "cell_type": "code",
   "execution_count": null,
   "metadata": {},
   "outputs": [],
   "source": [
    "tin = w2.read('examples/Spokane_River/tin_br8.csv', 2001, ['T'], ylabels=['T ($^oC$)'])"
   ]
  },
  {
   "cell_type": "code",
   "execution_count": null,
   "metadata": {},
   "outputs": [],
   "source": [
    "display(tin)"
   ]
  },
  {
   "cell_type": "code",
   "execution_count": null,
   "metadata": {},
   "outputs": [],
   "source": [
    "w2.plot(tin);"
   ]
  },
  {
   "cell_type": "markdown",
   "metadata": {},
   "source": [
    "## 3. Water Quality Input Data <a name=\"cin\"></a>\n",
    "\n",
    "In this section, we will read and plot the water quality input data for the upstream boundary of the reservoir, which is located in `cin.csv`. This file contains quite a few columns of data. We will define these variable names first. For this exercise, we will be using the default names that are given in the header of `cin.csv`. You can specify any names you would like. These will be used to label the data columns in the table and as default y labels in the plots."
   ]
  },
  {
   "cell_type": "code",
   "execution_count": null,
   "metadata": {},
   "outputs": [],
   "source": [
    "data_columns = [\n",
    "   'TDS', 'Conduct', 'ISS1', 'PO4', 'NH4', 'NOx', 'LDOM', 'RDOM', 'LPOM', 'RPOM', '1CBOD',\n",
    "   '2CBOD', '3CBOD', '4CBOD', '5CBOD', '6CBOD', '7CBOD', '8CBOD', '9CBOD', '10CBOD', '1CBODP',\n",
    "   '2CBODP', '3CBODP', '4CBODP', '5CBODP', '6CBODP', '7CBODP', '8CBODP', '9CBODP', '10CBODP', '1CBODN',\n",
    "   '2CBODN', '3CBODN', '4CBODN', '5CBODN', '6CBODN', '7CBODN', '8CBODN', '9CBODN', '10CBODN', 'ALG1',\n",
    "   'ALG2', 'ALG3', 'DO', 'TIC', 'ALK', 'LDOM_P', 'RDOM_P', 'LPOM_P', 'RPOM_P', 'LDOM_N', 'RDOM_N',\n",
    "   'LPOM_N', 'RPOM_N'\n",
    "]"
   ]
  },
  {
   "cell_type": "markdown",
   "metadata": {},
   "source": [
    "Read the file, and display the table."
   ]
  },
  {
   "cell_type": "code",
   "execution_count": null,
   "metadata": {},
   "outputs": [],
   "source": [
    "cin = w2.read('examples/Spokane_River/cin.csv', 2001, data_columns)"
   ]
  },
  {
   "cell_type": "code",
   "execution_count": null,
   "metadata": {},
   "outputs": [],
   "source": [
    "cin"
   ]
  },
  {
   "cell_type": "markdown",
   "metadata": {},
   "source": [
    "#### Statistics Table\n",
    "\n",
    "The variable `cin` is a pandas data frame, which contains a large number of built-in functions to plot and process the data. First, let's display the summary statistics."
   ]
  },
  {
   "cell_type": "code",
   "execution_count": null,
   "metadata": {},
   "outputs": [],
   "source": [
    "cin.describe()"
   ]
  },
  {
   "cell_type": "markdown",
   "metadata": {},
   "source": [
    "#### Plot the data"
   ]
  },
  {
   "cell_type": "code",
   "execution_count": null,
   "metadata": {},
   "outputs": [],
   "source": [
    "cin.plot()"
   ]
  },
  {
   "cell_type": "markdown",
   "metadata": {},
   "source": [
    "#### Define a subset of variables to plot\n",
    "\n",
    "There are far too many variables to display on a single plot. Let's select a few of the variables to plot."
   ]
  },
  {
   "cell_type": "code",
   "execution_count": null,
   "metadata": {},
   "outputs": [],
   "source": [
    "variables_to_plot = ['PO4', 'NH4', 'NOx']"
   ]
  },
  {
   "cell_type": "markdown",
   "metadata": {},
   "source": [
    "#### Plot PO$_4$, NH$_4$, and NO$_x$"
   ]
  },
  {
   "cell_type": "code",
   "execution_count": null,
   "metadata": {},
   "outputs": [],
   "source": [
    "w2.plot(cin[variables_to_plot]);"
   ]
  },
  {
   "cell_type": "markdown",
   "metadata": {},
   "source": [
    "## 4. CE-QUAL-W2 Output Data <a name=\"tsr\"></a>\n",
    "\n",
    "In this section, we will plot the data written to the time series output file for Segment 2, located in `tsr_1_seg2.csv`. This contains 98 variables -- far too many to display on a single plot. Therefore, we will only plot a few of the variables.\n",
    "\n",
    "#### Read the data"
   ]
  },
  {
   "cell_type": "code",
   "execution_count": null,
   "metadata": {},
   "outputs": [],
   "source": [
    "data_columns = [\n",
    "    'DLT(s)', 'ELWS(m)', 'T2(C)', 'U(ms-1)', 'Q(m3s-1)', 'SRON(Wm-2)', 'EXT(m-1)', 'DEPTH(m)',\n",
    "    'WIDTH(m)', 'SHADE', 'Tvolavg(C)', 'NetRad(Wm-2)', 'SWSolar(Wm-2)', 'LWRad(Wm-2)',\n",
    "    'BackRad(Wm-2)', 'EvapF(Wm-2)', 'ConducF(Wm-2)', 'ReaerationCoeff(day-1)', 'TDS', 'Gen1',\n",
    "    'ISS1', 'PO4', 'NH4', 'NO3', 'LDOM', 'RDOM', 'LPOM', 'RPOM', '1CBOD', '2CBOD', '3CBOD',\n",
    "    '4CBOD', '5CBOD', '6CBOD', '7CBOD', '8CBOD', '9CBOD', '10CBOD', '1CBODP', '2CBODP', '3CBODP',\n",
    "    '4CBODP', '5CBODP', '6CBODP', '7CBODP', '8CBODP', '9CBODP', ' 10CBODP', '1CBODN', '2CBODN',\n",
    "    '3CBODN', '4CBODN', '5CBODN', '6CBODN', '7CBODN', '8CBODN', '9CBODN', ' 10CBODN', 'ALG1',\n",
    "    'ALG2', 'ALG3', 'DO', 'TIC', 'ALK', 'LDOM_P', 'RDOM_P', 'LPOM_P', 'RPOM_P', 'LDOM_N', 'RDOM_N',\n",
    "    'LPOM_N', 'RPOM_N', 'EPI', 'SED', 'SEDP', 'SEDN', 'SEDC', 'DOC', 'TOC', 'TON', 'TKN', 'TN',\n",
    "    'TOP', 'TP', 'CHLA', 'TSS', 'CBOD', 'pH', ' CO2GASX(kg/d)', 'PLIM_ALG1', 'PLIM_ALG2', 'PLIM_ALG3',\n",
    "    'NLIM_ALG1', 'NLIM_ALG2', 'NLIM_ALG3', 'LLIM_ALG1', 'LLIM_ALG2', 'LLIM_ALG3'\n",
    "]"
   ]
  },
  {
   "cell_type": "code",
   "execution_count": null,
   "metadata": {},
   "outputs": [],
   "source": [
    "tsr_1_seg2 = w2.read('examples/Spokane_River/tsr_1_seg2.csv', 2001, data_columns)"
   ]
  },
  {
   "cell_type": "markdown",
   "metadata": {},
   "source": [
    "#### Display the input data and the statistics"
   ]
  },
  {
   "cell_type": "code",
   "execution_count": null,
   "metadata": {},
   "outputs": [],
   "source": [
    "display(tsr_1_seg2)\n",
    "tsr_1_seg2.describe()"
   ]
  },
  {
   "cell_type": "markdown",
   "metadata": {},
   "source": [
    "#### Define which variables to plot"
   ]
  },
  {
   "cell_type": "code",
   "execution_count": null,
   "metadata": {},
   "outputs": [],
   "source": [
    "variables_to_plot = ['DO', 'PO4', 'NH4', 'NO3']"
   ]
  },
  {
   "cell_type": "markdown",
   "metadata": {},
   "source": [
    "#### Plot all the data on a single plot"
   ]
  },
  {
   "cell_type": "code",
   "execution_count": null,
   "metadata": {},
   "outputs": [],
   "source": [
    "w2.plot(tsr_1_seg2[variables_to_plot]);"
   ]
  },
  {
   "cell_type": "markdown",
   "metadata": {},
   "source": [
    "#### Plot each variable in a separate sub-plot"
   ]
  },
  {
   "cell_type": "code",
   "execution_count": null,
   "metadata": {},
   "outputs": [],
   "source": [
    "w2.multi_plot(tsr_1_seg2[variables_to_plot]);"
   ]
  }
 ],
 "metadata": {
  "kernelspec": {
   "display_name": "anaconda-2022.05-py39",
   "language": "python",
   "name": "conda-env-anaconda-2022.05-py39-py"
  },
  "language_info": {
   "codemirror_mode": {
    "name": "ipython",
    "version": 3
   },
   "file_extension": ".py",
   "mimetype": "text/x-python",
   "name": "python",
   "nbconvert_exporter": "python",
   "pygments_lexer": "ipython3",
   "version": "3.9.12"
  },
  "vscode": {
   "interpreter": {
    "hash": "b4577b0041ce1913dafcec52e3abf59a696672476443b47f71a74457ebbf5651"
   }
  }
 },
 "nbformat": 4,
 "nbformat_minor": 4
}
