{
 "cells": [
  {
   "cell_type": "code",
   "execution_count": null,
   "id": "a5fc3dc4-7327-4432-b325-58f9214bbe06",
   "metadata": {},
   "outputs": [],
   "source": [
    "!conda install numpy"
   ]
  },
  {
   "cell_type": "code",
   "execution_count": null,
   "id": "576a6503-81ec-46a3-907f-b24eff1cd187",
   "metadata": {},
   "outputs": [],
   "source": [
    "!conda install matplotlib"
   ]
  },
  {
   "cell_type": "code",
   "execution_count": null,
   "id": "6a7d467e-1c59-4e8d-9f29-c266b95b51ad",
   "metadata": {},
   "outputs": [],
   "source": [
    "!conda install pandas"
   ]
  },
  {
   "cell_type": "code",
   "execution_count": null,
   "id": "718cbc2c-289e-410c-8c66-9dc267880a65",
   "metadata": {},
   "outputs": [],
   "source": [
    "!conda install h5py"
   ]
  },
  {
   "cell_type": "code",
   "execution_count": null,
   "id": "01bc6dae-a9ff-4e6d-975a-318cc73fba37",
   "metadata": {},
   "outputs": [],
   "source": [
    "!conda install seaborn"
   ]
  },
  {
   "cell_type": "code",
   "execution_count": null,
   "id": "7fca241c-5e80-4876-bdc2-baad7cc20093",
   "metadata": {},
   "outputs": [],
   "source": [
    "!conda install yaml"
   ]
  },
  {
   "cell_type": "code",
   "execution_count": null,
   "id": "02ee9710-09d2-4f59-b2ea-38c51b46b358",
   "metadata": {},
   "outputs": [],
   "source": [
    "!conda install holoviews"
   ]
  }
 ],
 "metadata": {
  "kernelspec": {
   "display_name": "anaconda-panel-2023.05-py310",
   "language": "python",
   "name": "conda-env-anaconda-panel-2023.05-py310-py"
  },
  "language_info": {
   "codemirror_mode": {
    "name": "ipython",
    "version": 3
   },
   "file_extension": ".py",
   "mimetype": "text/x-python",
   "name": "python",
   "nbconvert_exporter": "python",
   "pygments_lexer": "ipython3",
   "version": "3.11.4"
  }
 },
 "nbformat": 4,
 "nbformat_minor": 5
}
