{
 "cells": [
  {
   "cell_type": "markdown",
   "id": "6d2257d6-ccd7-4201-9b09-ba6358162a6e",
   "metadata": {
    "tags": []
   },
   "source": [
    "# 2.13 Workshop\n",
    "\n",
    "## 2.13a. Introduction to Python\n",
    "\n",
    "Welcome to this Jupyter Notebook tutorial on the fundamentals of the [Python](www.python.org) programming language! Whether you're a complete beginner or have some programming experience, this guide will provide you with a solid foundation in Python programming.\n",
    "\n",
    "Python is a versatile and beginner-friendly programming language that is widely used in various domains, including web development, data analysis, artificial intelligence, scientific computing, and more. Its simplicity and readability make it an excellent choice for beginners as well as professionals.\n",
    "\n",
    "In this tutorial, we will cover the fundamental concepts of Python, starting from the basics and gradually building up your knowledge. You will learn about variables, data types, operators, control flow statements, functions, and more. By the end, you'll be equipped with the essential skills to write your own Python programs, analyze data, and solve problems.\n",
    "\n",
    "To follow along with this tutorial, we will be using this Jupyter notebook, hosted on the Anaconda cloud. To run this on your local computer, you will need a Python installation and a Jupyter Notebook environment. Please see the companion notebooks, `Installing_Anaconda.ipynb` to set up Python on your computer and `Installing_and_Using_Jupyter.ipynb`\n",
    "\n",
    "Throughout this notebook, we'll provide code examples and explanations, along with interactive exercises to reinforce your understanding. Feel free to experiment with the code and modify it to see how it behaves. Remember, practice is key to mastering any programming language!\n",
    "\n",
    "Let's dive into the fascinating world of Python programming and start building our coding skills from scratch. Enjoy the journey!\n",
    "\n",
    "## Table of Contents\n",
    "\n",
    "1. [Installation and Setup](#installation-and-setup)\n",
    "2. [Comments](#comments)\n",
    "3. [Variables and Data Types](#variables-and-data-types)\n",
    "4. [Operators](#operators)\n",
    "5. [Control Flow](#control-flow)\n",
    "6. [Functions](#functions)"
   ]
  },
  {
   "cell_type": "markdown",
   "id": "5a3992ee-a44e-4572-aee1-19b1e8cce869",
   "metadata": {},
   "source": [
    "## 1. Installation and Setup <a name=\"installation-and-setup\"></a>\n",
    "\n",
    "Before we dive into Python programming, let's ensure that you have Python installed on your machine. If you don't have Python installed, you can download it from the official Python website (https://www.python.org/downloads/). Choose the appropriate version for your operating system and follow the installation instructions.\n",
    "\n",
    "Additionally, we'll be using Jupyter Notebook as our coding environment. If you haven't installed it yet, you can install it using the Python package manager, pip, by running the command `pip install jupyter`.\n",
    "\n",
    "Once you have Python and Jupyter Notebook installed, you're ready to get started!"
   ]
  },
  {
   "cell_type": "markdown",
   "id": "8c4057e0-6fff-4e86-b16b-d558d15724b5",
   "metadata": {},
   "source": [
    "## 2. Comments <a name=\"comments\"></a>\n",
    "\n",
    "\n",
    "Comments allow explaining important things about a program. The \"`#`\" character marks the beginning of a string. Everything following the \"`#`\" is ignored by Python."
   ]
  },
  {
   "cell_type": "code",
   "execution_count": null,
   "id": "1b746f45-7d21-426d-9cf1-a52a959cae92",
   "metadata": {},
   "outputs": [],
   "source": [
    "# This entire line is a comment\n",
    "\n",
    "# New programmers often write a simple \"Hello, World!\" program.\n",
    "# Python's version of this program is very simple!\n",
    "print('Hello, world!') # The end of this line is a comment!"
   ]
  },
  {
   "cell_type": "markdown",
   "id": "3249445e-8fc4-40c1-9b1d-3bbdcb11dff1",
   "metadata": {},
   "source": [
    "## 3. Variables and Data Types <a name=\"variables-and-data-types\"></a>\n",
    "\n",
    "In Python, variables are used to store data values. Unlike some other programming languages, you don't need to explicitly declare the type of a variable. Python determines the data type automatically based on the value assigned to it.\n",
    "\n",
    "Let's start by learning about some commonly used data types in Python:\n",
    "- **Numeric Types**: integers (`int`), floating-point numbers (`float`), and complex numbers (`complex`).\n",
    "- **Strings**: sequences of characters enclosed in single quotes (`'text'`) or double quotes (`\"text\"`).\n",
    "- **Booleans**: represent either `True` or `False`.\n",
    "- **Lists**: ordered and mutable collections of items.\n",
    "- **Dictionaries**: unordered collections of key-value pairs."
   ]
  },
  {
   "cell_type": "markdown",
   "id": "cb2ddeea-3cb9-4c5d-a9df-02753501c730",
   "metadata": {},
   "source": [
    "### Numeric Types\n",
    "\n",
    "Numeric types in Python allow you to work with numbers. Let's start with integers:"
   ]
  },
  {
   "cell_type": "code",
   "execution_count": null,
   "id": "151920cb-05d2-4c6c-9372-bce49bc29e05",
   "metadata": {},
   "outputs": [],
   "source": [
    "# Integer\n",
    "my_int = 10\n",
    "print(my_int)  # Output: 10"
   ]
  },
  {
   "cell_type": "markdown",
   "id": "5ef8a637-9ec0-43c6-a8f6-47d3e84c6542",
   "metadata": {},
   "source": [
    "Floating-point numbers are used to represent decimal values:"
   ]
  },
  {
   "cell_type": "code",
   "execution_count": null,
   "id": "7c9abffe-042a-4c45-811b-6f06c8d25946",
   "metadata": {},
   "outputs": [],
   "source": [
    "# Floating-point number\n",
    "my_float = 3.14\n",
    "print(my_float)  # Output: 3.14"
   ]
  },
  {
   "cell_type": "markdown",
   "id": "e1bf6023-5639-4d96-8ee9-bb9fd52e19b3",
   "metadata": {},
   "source": [
    "### Strings\n",
    "\n",
    "Strings are used to represent text in Python. They can be enclosed in single quotes or double quotes:"
   ]
  },
  {
   "cell_type": "code",
   "execution_count": null,
   "id": "5e0ee144-7a3d-4693-a7a5-290f81138856",
   "metadata": {},
   "outputs": [],
   "source": [
    "# String\n",
    "my_string = 'Hello, World!'\n",
    "print(my_string)  # Output: Hello, World!\n",
    "\n",
    "another_string = \"Python is awesome!\"\n",
    "print(another_string)  # Output: Python is awesome!"
   ]
  },
  {
   "cell_type": "markdown",
   "id": "481ecdb2-81e4-4896-b14f-5352b95f9360",
   "metadata": {},
   "source": [
    "### Booleans\n",
    "\n",
    "Booleans represent the truth values `True` or `False`. They are often used in conditional statements and comparisons:"
   ]
  },
  {
   "cell_type": "code",
   "execution_count": null,
   "id": "3f9bb7b6-003c-4b52-a6f9-61634ef350eb",
   "metadata": {},
   "outputs": [],
   "source": [
    "# Boolean\n",
    "is_python_fun = True\n",
    "is_learning = False\n",
    "\n",
    "print(is_python_fun)  # Output: True\n",
    "print(is_learning)  # Output: False"
   ]
  },
  {
   "cell_type": "markdown",
   "id": "8d83a5c2-8448-42e2-8389-3110f9aff9a4",
   "metadata": {},
   "source": [
    "### Lists\n",
    "\n",
    "Lists are ordered and mutable collections of items. They can contain elements of different data types:"
   ]
  },
  {
   "cell_type": "code",
   "execution_count": null,
   "id": "016bf2d6-e092-454e-83cc-b633d4a07aff",
   "metadata": {},
   "outputs": [],
   "source": [
    "# List\n",
    "my_list = [1, 2, 3, 4, 5]\n",
    "print(my_list)  # Output: [1, 2, 3, 4, 5]\n",
    "\n",
    "mixed_list = ['apple', 1, True, 3.14]\n",
    "print(mixed_list)  # Output: ['apple', 1, True, 3.14]"
   ]
  },
  {
   "cell_type": "markdown",
   "id": "3720cf3a-743f-4b76-a7d6-e63f6bf9e0bf",
   "metadata": {},
   "source": [
    "### Dictionaries\n",
    "\n",
    "Dictionaries are unordered collections of key-value pairs. They allow you to retrieve values based on their keys:"
   ]
  },
  {
   "cell_type": "code",
   "execution_count": null,
   "id": "e8115c00-234e-474e-bca2-4b38e598293a",
   "metadata": {},
   "outputs": [],
   "source": [
    "# Dictionary\n",
    "my_dict = {'name': 'John', 'age': 30, 'city': 'New York'}\n",
    "print(my_dict)  # Output: {'name': 'John', 'age': 30, 'city': 'New York'}"
   ]
  },
  {
   "cell_type": "markdown",
   "id": "f48d7838-bc67-4091-a734-8a6d2d05616a",
   "metadata": {},
   "source": [
    "Now that we have learned about different data types in Python, you can start using variables to store and manipulate data."
   ]
  },
  {
   "cell_type": "markdown",
   "id": "95759161-adbd-4704-90dd-8deb17a68b68",
   "metadata": {},
   "source": [
    "## 4. Operators <a name=\"operators\"></a>\n",
    "\n",
    "Operators are symbols or special characters that perform operations on operands (variables or values). Python provides a variety of operators, including arithmetic, assignment, comparison, logical, and more. Understanding operators is essential for performing calculations, making comparisons, and controlling the flow of your program."
   ]
  },
  {
   "cell_type": "markdown",
   "id": "5e2f8870-e5a4-417e-8980-8b96fd87ea3a",
   "metadata": {},
   "source": [
    "### Arithmetic Operators\n",
    "\n",
    "Arithmetic operators allow you to perform mathematical operations on numbers:"
   ]
  },
  {
   "cell_type": "code",
   "execution_count": null,
   "id": "b21b8e69-1a42-469c-b007-2c074b0b064c",
   "metadata": {},
   "outputs": [],
   "source": [
    "# Addition\n",
    "result = 5 + 3\n",
    "print(result)  # Output: 8"
   ]
  },
  {
   "cell_type": "code",
   "execution_count": null,
   "id": "8380cb90-b632-4c65-852a-abdbe13e0847",
   "metadata": {},
   "outputs": [],
   "source": [
    "# Subtraction\n",
    "result = 7 - 2\n",
    "print(result)  # Output: 5"
   ]
  },
  {
   "cell_type": "code",
   "execution_count": null,
   "id": "0b4d374f-23e7-4a50-969e-316763b89ffd",
   "metadata": {},
   "outputs": [],
   "source": [
    "# Multiplication\n",
    "result = 4 * 3\n",
    "print(result)  # Output: 12"
   ]
  },
  {
   "cell_type": "code",
   "execution_count": null,
   "id": "44c83bc0-d46b-42b0-ae57-90c0ad0f4f08",
   "metadata": {},
   "outputs": [],
   "source": [
    "# Division\n",
    "result = 10 / 2\n",
    "print(result)  # Output: 5.0"
   ]
  },
  {
   "cell_type": "code",
   "execution_count": null,
   "id": "e81f8ebb-59f0-4b31-9123-d68092cb9729",
   "metadata": {},
   "outputs": [],
   "source": [
    "# Exponentiation\n",
    "result = 2 ** 3\n",
    "print(result)  # Output: 8"
   ]
  },
  {
   "cell_type": "markdown",
   "id": "1b211949-1a48-492f-8595-fcc90cf79d89",
   "metadata": {},
   "source": [
    "### Assignment Operators\n",
    "\n",
    "Assignment operators are used to assign values to variables:"
   ]
  },
  {
   "cell_type": "code",
   "execution_count": null,
   "id": "7722acd3-ec2f-459b-a300-40bb4803c9bd",
   "metadata": {},
   "outputs": [],
   "source": [
    "x = 5  # Assign the value 5 to x\n",
    "y = 3  # Assign the value 3 to y"
   ]
  },
  {
   "cell_type": "code",
   "execution_count": null,
   "id": "6854a30c-7a58-4753-a1cb-a861127b0e84",
   "metadata": {},
   "outputs": [],
   "source": [
    "# Additional assignment operators\n",
    "x += 2  # Equivalent to x = x + 2\n",
    "y -= 1  # Equivalent to y = y - 1\n",
    "x *= 3  # Equivalent to x = x * 3\n",
    "y /= 2  # Equivalent to y = y / 2\n",
    "\n",
    "print(x)  # Output: 7\n",
    "print(y)  # Output: 1.5"
   ]
  },
  {
   "cell_type": "markdown",
   "id": "37a7bf1d-0b8f-4940-8f31-2490ee71f829",
   "metadata": {},
   "source": [
    "### Comparison Operators\n",
    "\n",
    "Comparison operators compare two values and return a Boolean result (`True` or `False`):"
   ]
  },
  {
   "cell_type": "code",
   "execution_count": null,
   "id": "bb4fe93e-b65f-4e9e-80ff-a8dc17dac1a4",
   "metadata": {},
   "outputs": [],
   "source": [
    "x = 5\n",
    "y = 3"
   ]
  },
  {
   "cell_type": "code",
   "execution_count": null,
   "id": "c90e5423-00cf-476c-853c-964c9b45d963",
   "metadata": {},
   "outputs": [],
   "source": [
    "# Equality\n",
    "print(x == y)  # Output: False"
   ]
  },
  {
   "cell_type": "code",
   "execution_count": null,
   "id": "212c8f4b-a4cd-48bd-9d7e-df4500082855",
   "metadata": {},
   "outputs": [],
   "source": [
    "# Not Equal\n",
    "print(x != y)  # Output: True"
   ]
  },
  {
   "cell_type": "code",
   "execution_count": null,
   "id": "b332aa41-1026-4afe-b06c-4154a508ef67",
   "metadata": {},
   "outputs": [],
   "source": [
    "# Greater Than\n",
    "print(x > y) # Output: True"
   ]
  },
  {
   "cell_type": "code",
   "execution_count": null,
   "id": "9e21ddc5-347f-45f1-823b-c6549fd18b2c",
   "metadata": {},
   "outputs": [],
   "source": [
    "# Less Than\n",
    "print(x < y)  # Output: False"
   ]
  },
  {
   "cell_type": "code",
   "execution_count": null,
   "id": "4c833abd-993a-4e95-aae4-be49beaed6d1",
   "metadata": {},
   "outputs": [],
   "source": [
    "# Greater Than or Equal To\n",
    "print(x >= y)  # Output: True"
   ]
  },
  {
   "cell_type": "code",
   "execution_count": null,
   "id": "9d3391ba-9b19-49a0-bcda-e0f16a93a153",
   "metadata": {},
   "outputs": [],
   "source": [
    "# Less Than or Equal To\n",
    "print(x <= y)  # Output: False"
   ]
  },
  {
   "cell_type": "markdown",
   "id": "0e43b647-0fa0-4811-a5c5-ee35ed2aabec",
   "metadata": {},
   "source": [
    "### Logical Operators\n",
    "\n",
    "Logical operators are used to combine and manipulate Boolean values:"
   ]
  },
  {
   "cell_type": "code",
   "execution_count": null,
   "id": "38a8fb3f-5964-4b0f-bfb3-2dfa1c98dd17",
   "metadata": {},
   "outputs": [],
   "source": [
    "x = True\n",
    "y = False"
   ]
  },
  {
   "cell_type": "code",
   "execution_count": null,
   "id": "483ec353-4e1b-4986-bfa0-d0fc551eb121",
   "metadata": {},
   "outputs": [],
   "source": [
    "# Logical AND\n",
    "print(x and y)  # Output: False"
   ]
  },
  {
   "cell_type": "code",
   "execution_count": null,
   "id": "a62e1ec7-25c4-4349-8683-84db92e82686",
   "metadata": {},
   "outputs": [],
   "source": [
    "# Logical OR\n",
    "print(x or y)  # Output: True"
   ]
  },
  {
   "cell_type": "code",
   "execution_count": null,
   "id": "ea81bbcd-979f-4a3f-91b4-70861e3ce063",
   "metadata": {},
   "outputs": [],
   "source": [
    "# Logical NOT\n",
    "print(not x)  # Output: False"
   ]
  },
  {
   "cell_type": "markdown",
   "id": "ebafe6f4-18a3-4e5e-abd5-0a63ff5b865f",
   "metadata": {},
   "source": [
    "These are some of the basic operators in Python. You can combine them and use them creatively to solve complex problems in your programs."
   ]
  },
  {
   "cell_type": "markdown",
   "id": "5e216b0a-d38b-4498-86d6-a9864e90908d",
   "metadata": {},
   "source": [
    "## 5. Control Flow <a name=\"control-flow\"></a>\n",
    "\n",
    "Control flow statements allow you to control the execution order of your program. Using conditional statements and loops, you can make decisions and repeat tasks based on certain conditions. This enables your program to respond dynamically to different situations and perform complex operations."
   ]
  },
  {
   "cell_type": "markdown",
   "id": "2b7065c5-631d-4c4e-a7e1-0db0c0eb36d7",
   "metadata": {},
   "source": [
    "### Conditional Statements: if, else, and elif\n",
    "\n",
    "Conditional statements allow your program to execute different blocks of code based on specific conditions. The most commonly used conditional statement in Python is `if`.\n",
    "\n",
    "The general syntax of an `if` statement is as follows:\n",
    "```\n",
    "if condition:\n",
    "    # Code to execute if the condition is True\n",
    "else:\n",
    "    # Code to execute if the condition is False\n",
    "```"
   ]
  },
  {
   "cell_type": "markdown",
   "id": "3310d8a6-6e60-484d-a06d-c5d6b5c74903",
   "metadata": {},
   "source": [
    "Here's an example that demonstrates the use of an `if` statement:"
   ]
  },
  {
   "cell_type": "code",
   "execution_count": null,
   "id": "9839b48c-5c14-4d61-8709-9180d109591c",
   "metadata": {},
   "outputs": [],
   "source": [
    "age = 18\n",
    "\n",
    "if age >= 18:\n",
    "    print(\"You are eligible to vote!\")\n",
    "else:\n",
    "    print(\"You are not eligible to vote.\")"
   ]
  },
  {
   "cell_type": "markdown",
   "id": "569fd2aa-cb3d-4080-b982-5aaa5e3ddf55",
   "metadata": {},
   "source": [
    "In addition to `if` and `else`, you can also use `elif` (short for \"else if\") to check multiple conditions:"
   ]
  },
  {
   "cell_type": "code",
   "execution_count": null,
   "id": "e055b27c-0857-4685-ae63-af4f948e4cca",
   "metadata": {},
   "outputs": [],
   "source": [
    "score = 85\n",
    "\n",
    "if score >= 90:\n",
    "    print(\"You scored an A!\")\n",
    "elif score >= 80:\n",
    "    print(\"You scored a B!\")\n",
    "elif score >= 70:\n",
    "    print(\"You scored a C!\")\n",
    "else:\n",
    "    print(\"You need to improve.\")"
   ]
  },
  {
   "cell_type": "markdown",
   "id": "ef266635-8412-4e98-a4aa-1dfef382b3ef",
   "metadata": {},
   "source": [
    "### Loops: for and while\n",
    "\n",
    "Loops allow you to repeat a block of code multiple times. Python provides two types of loops: `for` and `while`.\n",
    "\n",
    "The `for` loop is used to iterate over a sequence (such as a list or a string) or other iterable objects. Here's the general syntax of a `for` loop:\n",
    "\n",
    "```python\n",
    "for item in sequence:\n",
    "    # Code to execute for each item\n",
    "```\n",
    "\n",
    "Here's an example that demonstrates the use of a `for` loop:"
   ]
  },
  {
   "cell_type": "code",
   "execution_count": null,
   "id": "7d6f48c0-4705-42af-8acb-ff90ed6f1cd2",
   "metadata": {},
   "outputs": [],
   "source": [
    "fruits = [\"apple\", \"banana\", \"cherry\"]\n",
    "\n",
    "for fruit in fruits:\n",
    "    print(fruit)"
   ]
  },
  {
   "cell_type": "markdown",
   "id": "0f4c7fc8-544a-4250-951c-d33ee2f006e3",
   "metadata": {},
   "source": [
    "The `while` loop is used to repeat a block of code as long as a certain condition is true. The general syntax of a `while` loop is as follows:\n",
    "\n",
    "```python\n",
    "while condition:\n",
    "    # Code to execute while the condition is True\n",
    "```\n",
    "\n",
    "Here's an example that demonstrates the use of a `while` loop:"
   ]
  },
  {
   "cell_type": "code",
   "execution_count": null,
   "id": "a76457c7-12a2-4ee8-a129-57a771d4bbf5",
   "metadata": {},
   "outputs": [],
   "source": [
    "count = 1\n",
    "\n",
    "while count <= 5:\n",
    "    print(count)\n",
    "    count += 1"
   ]
  },
  {
   "cell_type": "markdown",
   "id": "6185b554-a235-4d93-b7b9-20d0101ba672",
   "metadata": {},
   "source": [
    "Loops are powerful constructs that allow you to automate repetitive tasks and process large amounts of data effectively."
   ]
  },
  {
   "cell_type": "markdown",
   "id": "e1ba461b-768f-4ce0-80b5-df239531ba61",
   "metadata": {},
   "source": [
    "## 6. Functions <a name=\"functions\"></a>\n",
    "\n",
    "Functions are reusable blocks of code that perform specific tasks. They allow you to break down your program into smaller, more manageable parts. Python provides built-in functions, and you can also create your own custom functions to perform specific operations."
   ]
  },
  {
   "cell_type": "markdown",
   "id": "d0bed0b1-e759-4125-8ec4-4a007ccaa576",
   "metadata": {},
   "source": [
    "### Built-in Functions\n",
    "\n",
    "Python comes with a wide range of built-in functions that perform various tasks. You can directly use these functions in your programs without defining them. Some commonly used built-in functions include `print()`, `len()`, `input()`, `range()`, `type()`, `int()`, `float()`, and many more.\n",
    "\n",
    "Here's an example that demonstrates the use of some built-in functions:"
   ]
  },
  {
   "cell_type": "code",
   "execution_count": null,
   "id": "eca4793b-7a54-46d1-9c46-b7f2f176666b",
   "metadata": {},
   "outputs": [],
   "source": [
    "name = input(\"Enter your name: \")\n",
    "print(\"Hello, \" + name + \"!\")\n",
    "\n",
    "numbers = [1, 2, 3, 4, 5]\n",
    "length = len(numbers)\n",
    "print(\"The length of the list is:\", length)\n",
    "\n",
    "result = type(3.14)\n",
    "print(\"The data type of the number is:\", result)"
   ]
  },
  {
   "cell_type": "markdown",
   "id": "4221cc6a-6e7d-4579-9777-e3b5da9db9af",
   "metadata": {},
   "source": [
    "### Defining Custom Functions\n",
    "\n",
    "In addition to built-in functions, you can define your own custom functions to perform specific tasks. Custom functions allow you to modularize your code and reuse it whenever needed.\n",
    "\n",
    "Here's the general syntax for defining a function:\n",
    "\n",
    "```python\n",
    "def function_name(parameters):\n",
    "    # Code to execute\n",
    "    return result\n",
    "```\n",
    "\n",
    "Let's create a simple custom function that calculates the square of a number:"
   ]
  },
  {
   "cell_type": "code",
   "execution_count": null,
   "id": "471a03db-8823-4d05-98a4-67d7cfa7b04b",
   "metadata": {},
   "outputs": [],
   "source": [
    "def square(number):\n",
    "    result = number ** 2\n",
    "    return result\n",
    "\n",
    "# Call the function\n",
    "result = square(5)\n",
    "print(\"The square of 5 is:\", result)"
   ]
  },
  {
   "cell_type": "markdown",
   "id": "13d066be-7ee6-4bd4-a1be-b638c517dfcb",
   "metadata": {},
   "source": [
    "Functions can accept multiple parameters, return values, and handle exceptions. They provide a way to organize and structure your code effectively."
   ]
  },
  {
   "cell_type": "markdown",
   "id": "d427504a-16d9-4069-9e91-74a77c9bae93",
   "metadata": {},
   "source": [
    "## 7. Modules and Packages <a name=\"modules-and-packages\"></a>\n",
    "\n",
    "Python modules and packages allow you to organize and reuse your code effectively. Modules are single files containing Python code, while packages are directories containing multiple modules. They provide a way to modularize your program and keep related code together."
   ]
  },
  {
   "cell_type": "markdown",
   "id": "3cfe5f92-6ee5-4c39-9a44-94c20b71a379",
   "metadata": {},
   "source": [
    "### Importing Modules\n",
    "\n",
    "To use functions and variables defined in a module, you need to import it into your code. Python provides the `import` statement to accomplish this."
   ]
  },
  {
   "cell_type": "markdown",
   "id": "ba728f27-4557-42d0-95df-50c2f9001f29",
   "metadata": {},
   "source": [
    "Here's an example that demonstrates how to import and use the `math` module:"
   ]
  },
  {
   "cell_type": "code",
   "execution_count": null,
   "id": "edf4f4bd-95cf-4833-8478-bfb390ff8910",
   "metadata": {},
   "outputs": [],
   "source": [
    "import math\n",
    "\n",
    "result = math.sqrt(16)\n",
    "print(\"The square root of 16 is:\", result)\n",
    "\n",
    "# You can also import specific functions or variables from a module\n",
    "from math import pi\n",
    "\n",
    "print(\"The value of pi is:\", pi)"
   ]
  }
 ],
 "metadata": {
  "kernelspec": {
   "display_name": "anaconda-panel-2023.05-py310",
   "language": "python",
   "name": "conda-env-anaconda-panel-2023.05-py310-py"
  },
  "language_info": {
   "codemirror_mode": {
    "name": "ipython",
    "version": 3
   },
   "file_extension": ".py",
   "mimetype": "text/x-python",
   "name": "python",
   "nbconvert_exporter": "python",
   "pygments_lexer": "ipython3",
   "version": "3.11.4"
  }
 },
 "nbformat": 4,
 "nbformat_minor": 5
}
