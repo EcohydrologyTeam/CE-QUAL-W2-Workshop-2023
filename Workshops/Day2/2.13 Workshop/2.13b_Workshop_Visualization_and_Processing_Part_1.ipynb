{
 "cells": [
  {
   "cell_type": "markdown",
   "metadata": {},
   "source": [
    "# 2.13 CE-QUAL-W2 Workshop\n",
    "\n",
    "## 2.13b. Visualization and Processing, Part 1 of 2\n",
    "\n",
    "In this workshop, we will be working with a CE-QUAL-W2 meteorology input file and the `cequalw2` module. We will cover the following:\n",
    "\n",
    "1. [Importing the `cequalw2` module](#importing-the-cequalw2-module)\n",
    "2. [Reading CE-QUAL-W2 meteorology data](#reading-meteorology-data)\n",
    "3. [Displaying the data in a table](#displaying-the-data-in-a-table)\n",
    "4. [Plotting the data](#plotting-the-data)\n",
    "5. [Adjusting the meteorology data for an alternative scenario](#adjusting-the-meteorology-data-for-an-alternative-scenario)\n",
    "6. [Writing the revised data to CSV and HDF5](#writing-the-revised-data-to-csv-and-hdf5)\n",
    "7. [Reading the data from the HDF5 file](#reading-the-data-from-the-hdf5-file)"
   ]
  },
  {
   "cell_type": "markdown",
   "metadata": {},
   "source": [
    "## 1. Importing the `cequalw2` module <a name=\"importing-the-cequalw2-module\"></a>\n",
    "\n",
    "In this section, we will import the `cequalw2` module, set the input filename, simulation year, column names, and labels for plotting."
   ]
  },
  {
   "cell_type": "code",
   "execution_count": null,
   "metadata": {},
   "outputs": [],
   "source": [
    "import cequalw2 as w2"
   ]
  },
  {
   "cell_type": "markdown",
   "metadata": {},
   "source": [
    "## 2. Reading CE-QUAL-w2 meteorology data <a name=\"reading-meteorology-data\"></a>"
   ]
  },
  {
   "cell_type": "markdown",
   "metadata": {},
   "source": [
    "#### Input Filename\n",
    "\n",
    "Name of the file to plot:"
   ]
  },
  {
   "cell_type": "code",
   "execution_count": null,
   "metadata": {},
   "outputs": [],
   "source": [
    "infile = 'examples/Degray_Reservoir/met.npt'"
   ]
  },
  {
   "cell_type": "markdown",
   "metadata": {},
   "source": [
    "#### Simulation Year\n",
    "\n",
    "If the files were created with Excel, use 1900 for the year."
   ]
  },
  {
   "cell_type": "code",
   "execution_count": null,
   "metadata": {},
   "outputs": [],
   "source": [
    "year = 1980"
   ]
  },
  {
   "cell_type": "markdown",
   "metadata": {},
   "source": [
    "#### Column Names and Labels"
   ]
  },
  {
   "cell_type": "markdown",
   "metadata": {},
   "source": [
    "Specify the names you want to use to label the data columns:"
   ]
  },
  {
   "cell_type": "code",
   "execution_count": null,
   "metadata": {},
   "outputs": [],
   "source": [
    "data_columns = [\n",
    "    'Air Temperature',\n",
    "    'Dew Point Temperature',\n",
    "    'Wind Speed',\n",
    "    'Wind Direction',\n",
    "    'Cloudiness',\n",
    "]"
   ]
  },
  {
   "cell_type": "markdown",
   "metadata": {},
   "source": [
    "Specify the labels to use for the y-axis labels on the plots:"
   ]
  },
  {
   "cell_type": "code",
   "execution_count": null,
   "metadata": {},
   "outputs": [],
   "source": [
    "ylabels = [\n",
    "    'Air Temperature ($^oC$)',\n",
    "    'Dew Point Temperature ($^oC$)',\n",
    "    'Wind Speed (m/s)',\n",
    "    'Wind Direction (radians)',\n",
    "    'Cloudiness (fraction)',\n",
    "]"
   ]
  },
  {
   "cell_type": "markdown",
   "metadata": {},
   "source": [
    "#### Read the Meteorology Data"
   ]
  },
  {
   "cell_type": "code",
   "execution_count": null,
   "metadata": {},
   "outputs": [],
   "source": [
    "met = w2.read('examples/DeGray_Reservoir/met.npt', year, data_columns)"
   ]
  },
  {
   "cell_type": "markdown",
   "metadata": {},
   "source": [
    "## 3. Displaying the data in a table <a name=\"displaying-the-data-in-a-table\"></a>\n",
    "\n",
    "In this section, we will display the meteorology data in a table."
   ]
  },
  {
   "cell_type": "code",
   "execution_count": null,
   "metadata": {},
   "outputs": [],
   "source": [
    "display(met)"
   ]
  },
  {
   "cell_type": "markdown",
   "metadata": {},
   "source": [
    "## 4. Plotting the data <a name=\"plotting-the-data\"></a>\n",
    "\n",
    "In this section, we will plot the data using one of the functions in the `cequalw2` module"
   ]
  },
  {
   "cell_type": "code",
   "execution_count": null,
   "metadata": {},
   "outputs": [],
   "source": [
    "w2.multi_plot(met, ylabels=ylabels, palette='tab10');"
   ]
  },
  {
   "cell_type": "markdown",
   "metadata": {},
   "source": [
    "## 5. Adjusting the meteorology data for an alternative scenario <a name=\"adjusting-the-meteorology-data-for-an-alternative-scenario\"></a>\n",
    "\n",
    "In this section, we will adjust the meteorology data for an alternative scenario. We will set the cloud cover to 50%, increase the air temperature by 2 degrees, and double the wind speed."
   ]
  },
  {
   "cell_type": "markdown",
   "metadata": {},
   "source": [
    "#### Set the Cloudiness to 50%\n",
    "\n",
    "The cloud data is scaled from 1 to 10, with 5 representing 50% cloud cover."
   ]
  },
  {
   "cell_type": "code",
   "execution_count": null,
   "metadata": {},
   "outputs": [],
   "source": [
    "met['Cloudiness'] = 5\n",
    "met"
   ]
  },
  {
   "cell_type": "markdown",
   "metadata": {},
   "source": [
    "#### Increase the Air Temperature by 2 $^{\\circ}C$\n",
    "\n",
    "This uses an *addition assignment* operator, `+=`. This operator tells Python to take the current time series and add 2 to it, replacing the existing values."
   ]
  },
  {
   "cell_type": "code",
   "execution_count": null,
   "metadata": {},
   "outputs": [],
   "source": [
    "met['Air Temperature'] += 2\n",
    "met"
   ]
  },
  {
   "cell_type": "markdown",
   "metadata": {},
   "source": [
    "#### Double the Wind Speed\n",
    "\n",
    "This uses a *multiplication assignment* operator, `+=`. This operator tells Python to take the current time series, multiply it by 2 and then replace the existing time series with the new values."
   ]
  },
  {
   "cell_type": "code",
   "execution_count": null,
   "metadata": {},
   "outputs": [],
   "source": [
    "met['Wind Speed'] *= 2\n",
    "met"
   ]
  },
  {
   "cell_type": "markdown",
   "metadata": {},
   "source": [
    "## 6. Writing the revised data to CSV and HDF5 <a name=\"writing-the-revised-data-to-csv-and-hdf5\"></a>\n",
    "\n",
    "In this section, we will save the revised meteorology data to both a Comma-Delimited Value (CSV) file and an HDF5 file."
   ]
  },
  {
   "cell_type": "markdown",
   "metadata": {},
   "source": [
    "#### Save the Revised Meterology Data to CSV"
   ]
  },
  {
   "cell_type": "code",
   "execution_count": null,
   "metadata": {},
   "outputs": [],
   "source": [
    "w2.write_csv(met, 'examples/DeGray_Reservoir/met_test.csv', year, header='$1980 DeGray Reservoir meteorology, revised\\n\\n')"
   ]
  },
  {
   "cell_type": "markdown",
   "metadata": {},
   "source": [
    "#### Save Meteorology to an HDF5 File"
   ]
  },
  {
   "cell_type": "code",
   "execution_count": null,
   "metadata": {},
   "outputs": [],
   "source": [
    "w2.write_hdf(met, 'inputs/Meteorology', 'examples/DeGray_Reservoir/DeGray.hdf5')"
   ]
  },
  {
   "cell_type": "markdown",
   "metadata": {},
   "source": [
    "## 7. Reading the data from the HDF5 file <a name=\"reading-the-data-from-the-hdf5-file\"></a>\n",
    "\n",
    "In this section, we will read the revised meteorology data from the HDF5 file and display it in a table."
   ]
  },
  {
   "cell_type": "markdown",
   "metadata": {},
   "source": [
    "#### Read the Meteorology back in from HDF5"
   ]
  },
  {
   "cell_type": "code",
   "execution_count": null,
   "metadata": {},
   "outputs": [],
   "source": [
    "df = w2.read_hdf('inputs/Meteorology', 'examples/DeGray_Reservoir/DeGray.hdf5', data_columns)\n",
    "df"
   ]
  },
  {
   "cell_type": "markdown",
   "metadata": {},
   "source": [
    "That's it! You have learned how to import the `cequalw2` module, display the meteorology data in a table, adjust the data for an alternative scenario, save the revised data to CSV and HDF5, and read the data from the HDF5 file. Feel free to explore further with the `cequalw2` module and experiment with your own CE-QUAL-W2 meteorology data."
   ]
  }
 ],
 "metadata": {
  "kernelspec": {
   "display_name": "anaconda-2022.05-py39",
   "language": "python",
   "name": "conda-env-anaconda-2022.05-py39-py"
  },
  "language_info": {
   "codemirror_mode": {
    "name": "ipython",
    "version": 3
   },
   "file_extension": ".py",
   "mimetype": "text/x-python",
   "name": "python",
   "nbconvert_exporter": "python",
   "pygments_lexer": "ipython3",
   "version": "3.9.12"
  },
  "vscode": {
   "interpreter": {
    "hash": "b4577b0041ce1913dafcec52e3abf59a696672476443b47f71a74457ebbf5651"
   }
  }
 },
 "nbformat": 4,
 "nbformat_minor": 4
}
