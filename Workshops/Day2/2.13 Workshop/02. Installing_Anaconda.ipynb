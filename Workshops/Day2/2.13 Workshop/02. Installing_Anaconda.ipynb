{
 "cells": [
  {
   "cell_type": "markdown",
   "id": "eb083df9-a83e-438b-bf5f-8c97136bf947",
   "metadata": {},
   "source": [
    "# Installing Anaconda\n",
    "\n",
    "1. **Download Anaconda**: Visit the Anaconda website at https://www.anaconda.com/products/individual and click on the \"Download\" button for the appropriate version of Anaconda (Windows, macOS, or Linux). Choose the latest version for your operating system.\n",
    "\n",
    "2. **Choose Installer Type**: Once the download is complete, locate the installer file and run it. Select the installer type based on your preference:\n",
    "\n",
    "    - **Graphical Installer**: It provides a user-friendly graphical interface to guide you through the installation process.\n",
    "    - **Command Line Installer**: It is a lightweight installer that can be run from the command line.\n",
    "\n",
    "3. **Follow the Installation Wizard**: Follow the instructions provided by the installation wizard. You can typically accept the default settings unless you have specific requirements. During the installation, you may be prompted to agree to the license terms and choose the installation location. Make your selections and proceed with the installation.\n",
    "\n",
    "4. **Setup Environment Variables**: After the installation is complete, you may need to set up environment variables to ensure that Anaconda is recognized by your operating system. By default, Anaconda should set up the necessary environment variables for you. However, if you encounter any issues, refer to the official Anaconda documentation for instructions specific to your operating system.\n",
    "\n",
    "5. **Open Anaconda Navigator**: Once the installation is successful, you can open Anaconda Navigator, a graphical user interface that allows you to manage environments and packages. You can find Anaconda Navigator in your application launcher or by searching for \"Anaconda Navigator\" in your operating system's search bar.\n",
    "\n",
    "6. **Create a New Environment**: In Anaconda Navigator, click on the \"Environments\" tab on the left sidebar. Then, click the \"Create\" button to create a new environment. Enter a name for your environment and choose the Python version you want to use (e.g., Python 3.8).\n",
    "\n",
    "7. **Install Packages**: With your environment selected, click on the \"Home\" tab on the left sidebar. In the search bar, type the name of the package you want to install (e.g., pandas, numpy, matplotlib). Select the package from the search results and click the \"Apply\" button to install it.\n",
    "\n",
    "8. **Launch Jupyter Notebook**: To use Jupyter Notebook, go back to the \"Home\" tab in Anaconda Navigator. Locate the Jupyter Notebook tile and click on the \"Launch\" button. This will open Jupyter Notebook in your default web browser.\n",
    "\n",
    "9. **Create and Use Notebooks**: In Jupyter Notebook, click on the \"New\" button and select \"Python 3\" to create a new Python notebook. You can now start writing and executing Python code in the notebook cells.\n",
    "\n",
    "Congratulations! You have successfully downloaded and installed Anaconda, set up an environment, and launched Jupyter Notebook. You are now ready to start coding in Python using Anaconda.\n",
    "\n",
    "Note: If you prefer using the command line interface, Anaconda also provides a command-line tool called `conda` to manage environments and packages. You can refer to the official Anaconda documentation for more information on using `conda` commands."
   ]
  }
 ],
 "metadata": {
  "kernelspec": {
   "display_name": "anaconda-panel-2023.05-py310",
   "language": "python",
   "name": "conda-env-anaconda-panel-2023.05-py310-py"
  },
  "language_info": {
   "codemirror_mode": {
    "name": "ipython",
    "version": 3
   },
   "file_extension": ".py",
   "mimetype": "text/x-python",
   "name": "python",
   "nbconvert_exporter": "python",
   "pygments_lexer": "ipython3",
   "version": "3.11.4"
  }
 },
 "nbformat": 4,
 "nbformat_minor": 5
}
